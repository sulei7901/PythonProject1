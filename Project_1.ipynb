{
  "nbformat": 4,
  "nbformat_minor": 0,
  "metadata": {
    "colab": {
      "name": "Project 1.ipynb",
      "provenance": [],
      "collapsed_sections": [],
      "authorship_tag": "ABX9TyPGHqSdhhROFFutQ5Wzz+9A",
      "include_colab_link": true
    },
    "kernelspec": {
      "name": "python3",
      "display_name": "Python 3"
    }
  },
  "cells": [
    {
      "cell_type": "markdown",
      "metadata": {
        "id": "view-in-github",
        "colab_type": "text"
      },
      "source": [
        "<a href=\"https://colab.research.google.com/github/sulei7901/PythonProject1/blob/master/Project_1.ipynb\" target=\"_parent\"><img src=\"https://colab.research.google.com/assets/colab-badge.svg\" alt=\"Open In Colab\"/></a>"
      ]
    },
    {
      "cell_type": "code",
      "metadata": {
        "id": "1rzMdZwC2sA5",
        "colab_type": "code",
        "colab": {}
      },
      "source": [
        "#!pip install pandas\n",
        "#!pip install matplotlib\n",
        "\n",
        "import pandas as pd\n",
        "import numpy as np\n",
        "import sys\n",
        "import seaborn as sns\n",
        "import matplotlib.pyplot as plt\n",
        "%matplotlib inline\n"
      ],
      "execution_count": null,
      "outputs": []
    },
    {
      "cell_type": "code",
      "metadata": {
        "id": "ptsc-V8-X5JX",
        "colab_type": "code",
        "colab": {
          "base_uri": "https://localhost:8080/",
          "height": 408
        },
        "outputId": "872129d8-ee24-414c-a12e-f836c8fb4252"
      },
      "source": [
        "## clean data to change missing values to NaN\n",
        "missing_values = ['na','s']\n",
        "df = pd.read_csv('https://raw.githubusercontent.com/CunyLaguardiaDataAnalytics/datasets/master/2014-15_To_2016-17_School-_Level_NYC_Regents_Report_For_All_Variables.csv', na_values = missing_values)\n",
        "#df\n",
        "\n",
        "## Print a list of all schools\n",
        "#unique_values=(np.unique(df['School Name']))\n",
        "#np.set_printoptions(threshold=sys.maxsize)\n",
        "#print(unique_values)\n",
        "\n",
        "#School DBN \n",
        "#Bronx High school of Science = 10X445\n",
        "\n",
        "## filter for a school #BxSci and an exam #Liv Env\n",
        "df2=df[(df['School DBN']== '10X445') & (df['Regents Exam']=='Living Environment')]\n",
        "#df2\n",
        "\n",
        "# Groupbys\n",
        "df3=df2.groupby(['Year'])['Mean Score'].mean()\n",
        "#print(df3)\n",
        "df4=df2.groupby(['Year'])['Mean Score'].median()\n",
        "#print(df4)\n",
        "df5=df2.groupby(['Year'])['Total Tested'].sum()\n",
        "#print(df5)\n",
        "\n",
        "# Visual - Barplot shows that BxSci had its highest mean score in Living Environment exam in 2015\n",
        "#sns.barplot(x='Year', y='Mean Score', data=df2).set_title('LIVING ENVIRONMENT EXAM')\n",
        "\n",
        "# Visual - Barplot shows BxSci had its highest median test score in Living Environment exam in 2015\n",
        "#medians=df2.groupby(['Year'])['Mean Score'].median().plot(kind='bar')\n",
        "#print(medians)\n",
        "\n",
        "# Visual - Barplot shows BxSci had the greatest # of students taking the Living Environment exam in 2015\n",
        "#sums=df2.groupby(['Year'])['Total Tested'].sum().plot(kind='bar')\n",
        "#print(sums)\n",
        "\n",
        "\n",
        "### Compare Stuy, BxSci, BkTech (Original 3 Specialized High Schools)\n",
        "#School DNB\n",
        "#Bronx High school of Science = 10X445\n",
        "#Stuyvesant High School = 02M475\n",
        "#Brooklyn Technical High School = 13K430\n",
        "specialschools = ['10X445', '02M475', '13K430']\n",
        "df6=df[(df['Regents Exam']=='Living Environment') & df['School DBN'].isin(specialschools)]\n",
        "df7=df6.groupby(['School Name','Year'])['Mean Score'].mean()\n",
        "#print(df7)\n",
        "# Visual - Barplot shows Stuy had the highest, BxSci had second highest, and BkTech had lowest avg scores for 3 years of Liv Envir exam\n",
        "#sns.barplot(x='Year',y='Mean Score',data=df6, hue='School Name').set_title('LIVING ENVIRONMENT EXAM')\n",
        "\n",
        "\n",
        "## All schools expect for BxSci that took Liv Envir exam\n",
        "AllSchoolsExcept=df[(df['School DBN'] != '10X445') & (df['Regents Exam']=='Living Environment')]\n",
        "AllSchoolsExcept.iloc[:,1] = 'All Other Schools'\n",
        "#AllSchoolsExcept\n",
        "#AllSchoolsExceptMean=AllSchoolsExcept.groupby(['Year','School Name'])['Mean Score'].mean()\n",
        "#print(AllSchoolsExceptMean)\n",
        "\n",
        "## Append Other Schools to BxSci\n",
        "result = df2.append(AllSchoolsExcept)\n",
        "#result\n",
        "# Visual - Barplot shows Bronx High School of Science scored higher than the average of all other schools for 3 years on the Living Environment exam\n",
        "sns.barplot(x='Year',y='Mean Score',data=result, hue='School Name').set_title('LIVING ENVIRONMENT EXAM')\n",
        "\n"
      ],
      "execution_count": 51,
      "outputs": [
        {
          "output_type": "stream",
          "text": [
            "/usr/local/lib/python3.6/dist-packages/pandas/core/indexing.py:966: SettingWithCopyWarning: \n",
            "A value is trying to be set on a copy of a slice from a DataFrame.\n",
            "Try using .loc[row_indexer,col_indexer] = value instead\n",
            "\n",
            "See the caveats in the documentation: https://pandas.pydata.org/pandas-docs/stable/user_guide/indexing.html#returning-a-view-versus-a-copy\n",
            "  self.obj[item] = s\n"
          ],
          "name": "stderr"
        },
        {
          "output_type": "execute_result",
          "data": {
            "text/plain": [
              "Text(0.5, 1.0, 'LIVING ENVIRONMENT EXAM')"
            ]
          },
          "metadata": {
            "tags": []
          },
          "execution_count": 51
        },
        {
          "output_type": "display_data",
          "data": {
            "image/png": "[encoded data removed]",
            "text/plain": [
              "<Figure size 432x288 with 1 Axes>"
            ]
          },
          "metadata": {
            "tags": [],
            "needs_background": "light"
          }
        }
      ]
    }
  ]
}