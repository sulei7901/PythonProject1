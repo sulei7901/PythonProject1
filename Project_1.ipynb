{
  "nbformat": 4,
  "nbformat_minor": 0,
  "metadata": {
    "colab": {
      "name": "Project 1.ipynb",
      "provenance": [],
      "collapsed_sections": [],
      "authorship_tag": "ABX9TyP5Ba7JqqqWehpu8CUDji5a",
      "include_colab_link": true
    },
    "kernelspec": {
      "name": "python3",
      "display_name": "Python 3"
    }
  },
  "cells": [
    {
      "cell_type": "markdown",
      "metadata": {
        "id": "view-in-github",
        "colab_type": "text"
      },
      "source": [
        "<a href=\"https://colab.research.google.com/github/sulei7901/PythonProject1/blob/master/Project_1.ipynb\" target=\"_parent\"><img src=\"https://colab.research.google.com/assets/colab-badge.svg\" alt=\"Open In Colab\"/></a>"
      ]
    },
    {
      "cell_type": "markdown",
      "metadata": {
        "id": "rWSXwyfkD-3n",
        "colab_type": "text"
      },
      "source": [
        "# Python Project 1\n",
        "\n",
        "**Import Libraries**"
      ]
    },
    {
      "cell_type": "code",
      "metadata": {
        "id": "nXgcfM4JE4uX",
        "colab_type": "code",
        "colab": {}
      },
      "source": [
        "#!pip install pandas\n",
        "#!pip install matplotlib\n",
        "%matplotlib inline\n",
        "\n",
        "import pandas as pd\n",
        "import numpy as np\n",
        "import sys\n",
        "import seaborn as sns\n",
        "import matplotlib.pyplot as plt\n",
        "\n"
      ],
      "execution_count": 58,
      "outputs": []
    },
    {
      "cell_type": "markdown",
      "metadata": {
        "id": "SperC74aE7k7",
        "colab_type": "text"
      },
      "source": [
        "**Clean Data and Import Data**"
      ]
    },
    {
      "cell_type": "code",
      "metadata": {
        "id": "YHx0jbBEFXlq",
        "colab_type": "code",
        "colab": {}
      },
      "source": [
        "## clean data to change missing values to NaN\n",
        "missing_values = ['na','s']\n",
        "df = pd.read_csv('https://raw.githubusercontent.com/CunyLaguardiaDataAnalytics/datasets/master/2014-15_To_2016-17_School-_Level_NYC_Regents_Report_For_All_Variables.csv', na_values = missing_values)\n",
        "#df"
      ],
      "execution_count": 76,
      "outputs": []
    },
    {
      "cell_type": "markdown",
      "metadata": {
        "id": "qIKM5YZ5Fb4_",
        "colab_type": "text"
      },
      "source": [
        "**Select School and Exam**\n",
        "\n",
        "Bronx High School of Science and Living Environment exam\n",
        "\n",
        "\n"
      ]
    },
    {
      "cell_type": "code",
      "metadata": {
        "id": "PwSiL2abFa8C",
        "colab_type": "code",
        "colab": {}
      },
      "source": [
        "## Print a list of all schools\n",
        "#unique_values=(np.unique(df['School Name']))\n",
        "#np.set_printoptions(threshold=sys.maxsize)\n",
        "#print(unique_values)\n",
        "\n",
        "#School DBN \n",
        "#Bronx High school of Science = 10X445\n",
        "\n",
        "## filter for a school #BxSci and an exam #Liv Env\n",
        "df2=df[(df['School DBN']== '10X445') & (df['Regents Exam']=='Living Environment')]\n",
        "#df2"
      ],
      "execution_count": 92,
      "outputs": []
    },
    {
      "cell_type": "markdown",
      "metadata": {
        "id": "3RXh7hxzF_FG",
        "colab_type": "text"
      },
      "source": [
        "**Insights for Bronx High School of Science and Living Environment exam**\n",
        "\n",
        "1. BxSci had its highest mean score in Living Environment exam in 2015.\n",
        "2. BxSci had its highest median test score in Living Environment exam in 2015.\n",
        "3. BxSci had the greatest # of students taking the Living Environment exam in 2015.\n",
        "\n"
      ]
    },
    {
      "cell_type": "code",
      "metadata": {
        "id": "I3HDy4J5GG_U",
        "colab_type": "code",
        "colab": {
          "base_uri": "https://localhost:8080/",
          "height": 1000
        },
        "outputId": "8692f160-0692-4825-8cee-42ba84f8ce80"
      },
      "source": [
        "class color:\n",
        "   PURPLE = '\\033[95m'\n",
        "   CYAN = '\\033[96m'\n",
        "   DARKCYAN = '\\033[36m'\n",
        "   BLUE = '\\033[94m'\n",
        "   GREEN = '\\033[92m'\n",
        "   YELLOW = '\\033[93m'\n",
        "   RED = '\\033[91m'\n",
        "   BOLD = '\\033[1m'\n",
        "   UNDERLINE = '\\033[4m'\n",
        "   END = '\\033[0m'\n",
        "\n",
        "# Groupbys\n",
        "df3=df2.groupby(['Year'])['Mean Score'].mean()\n",
        "print('Bronx Science Mean Scores')\n",
        "print(df3)\n",
        "print('')\n",
        "\n",
        "df4=df2.groupby(['Year'])['Mean Score'].median()\n",
        "print('Bronx Science Median Scores')\n",
        "print(df4)\n",
        "print('')\n",
        "\n",
        "df5=df2.groupby(['Year'])['Total Tested'].sum()\n",
        "print('Bronx Science Total Tested')\n",
        "print(df5)\n",
        "print('')\n",
        "\n",
        "# Visual - Barplot shows that BxSci had its highest mean score in Living Environment exam in 2015\n",
        "print(color.BLUE + color.BOLD + 'Barplot shows that BxSci had its highest mean score in Living Environment exam in 2015.' + color.END)\n",
        "sns.barplot(x='Year', y='Mean Score', data=df2).set_title('LIVING ENVIRONMENT EXAM')\n",
        "plt.show()\n",
        "\n",
        "# Visual - Barplot shows BxSci had its highest median test score in Living Environment exam in 2015\n",
        "print(color.BLUE + color.BOLD + 'Barplot shows BxSci had its highest median test score in Living Environment exam in 2015.' + color.END)\n",
        "medians=df2.groupby(['Year'])['Mean Score'].median().plot(kind='bar')\n",
        "print(medians)\n",
        "plt.show()\n",
        "\n",
        "# Visual - Barplot shows BxSci had the greatest # of students taking the Living Environment exam in 2015\n",
        "print(color.BLUE + color.BOLD + 'Barplot shows BxSci had the greatest # of students taking the Living Environment exam in 2015.' + color.END)\n",
        "sums=df2.groupby(['Year'])['Total Tested'].sum().plot(kind='bar')\n",
        "print(sums)\n",
        "plt.show()"
      ],
      "execution_count": 107,
      "outputs": [
        {
          "output_type": "stream",
          "text": [
            "Bronx Science Mean Scores\n",
            "Year\n",
            "2015    93.418182\n",
            "2016    92.880000\n",
            "2017    92.525000\n",
            "Name: Mean Score, dtype: float64\n",
            "\n",
            "Bronx Science Median Scores\n",
            "Year\n",
            "2015    93.50\n",
            "2016    92.85\n",
            "2017    92.50\n",
            "Name: Mean Score, dtype: float64\n",
            "\n",
            "Bronx Science Total Tested\n",
            "Year\n",
            "2015    2870\n",
            "2016    2400\n",
            "2017    2220\n",
            "Name: Total Tested, dtype: int64\n",
            "\n",
            "\u001b[94m\u001b[1mBarplot shows that BxSci had its highest mean score in Living Environment exam in 2015.\u001b[0m\n"
          ],
          "name": "stdout"
        },
        {
          "output_type": "display_data",
          "data": {
            "image/png": "[encoded data removed]",
            "text/plain": [
              "<Figure size 432x288 with 1 Axes>"
            ]
          },
          "metadata": {
            "tags": [],
            "needs_background": "light"
          }
        },
        {
          "output_type": "stream",
          "text": [
            "\u001b[94m\u001b[1mBarplot shows BxSci had its highest median test score in Living Environment exam in 2015.\u001b[0m\n",
            "AxesSubplot(0.125,0.125;0.775x0.755)\n"
          ],
          "name": "stdout"
        },
        {
          "output_type": "display_data",
          "data": {
            "image/png": "[encoded data removed]",
            "text/plain": [
              "<Figure size 432x288 with 1 Axes>"
            ]
          },
          "metadata": {
            "tags": [],
            "needs_background": "light"
          }
        },
        {
          "output_type": "stream",
          "text": [
            "\u001b[94m\u001b[1mBarplot shows BxSci had the greatest # of students taking the Living Environment exam in 2015.\u001b[0m\n",
            "AxesSubplot(0.125,0.125;0.775x0.755)\n"
          ],
          "name": "stdout"
        },
        {
          "output_type": "display_data",
          "data": {
            "image/png": "[encoded data removed]",
            "text/plain": [
              "<Figure size 432x288 with 1 Axes>"
            ]
          },
          "metadata": {
            "tags": [],
            "needs_background": "light"
          }
        }
      ]
    },
    {
      "cell_type": "markdown",
      "metadata": {
        "id": "TFDFmu4dGLIL",
        "colab_type": "text"
      },
      "source": [
        "**Compare the Original 3 Specialized High Schools**\n",
        "\n",
        "*   Stuyvesant High School had the highest, Bronx Science had the second highest and Brooklyn Tech had the lowest of the 3 schools for the three years of the Lvining Environment exam.\n",
        "\n",
        "\n",
        "\n",
        "\n",
        "\n"
      ]
    },
    {
      "cell_type": "code",
      "metadata": {
        "id": "4yQiBoksGbW7",
        "colab_type": "code",
        "colab": {
          "base_uri": "https://localhost:8080/",
          "height": 311
        },
        "outputId": "58c85f0b-f86a-49b0-b057-96b68cfc04f0"
      },
      "source": [
        "### Compare Stuy, BxSci, BkTech (Original 3 Specialized High Schools)\n",
        "#School DNB\n",
        "#Bronx High school of Science = 10X445\n",
        "#Stuyvesant High School = 02M475\n",
        "#Brooklyn Technical High School = 13K430\n",
        "specialschools = ['10X445', '02M475', '13K430']\n",
        "df6=df[(df['Regents Exam']=='Living Environment') & df['School DBN'].isin(specialschools)]\n",
        "df7=df6.groupby(['School Name','Year'])['Mean Score'].mean()\n",
        "#print(df7)\n",
        "# Visual - Barplot shows Stuy had the highest, BxSci had second highest, and BkTech had lowest avg scores for 3 years of Liv Envir exam\n",
        "sns.barplot(x='Year',y='Mean Score',data=df6, hue='School Name').set_title('LIVING ENVIRONMENT EXAM')\n"
      ],
      "execution_count": 71,
      "outputs": [
        {
          "output_type": "execute_result",
          "data": {
            "text/plain": [
              "Text(0.5, 1.0, 'LIVING ENVIRONMENT EXAM')"
            ]
          },
          "metadata": {
            "tags": []
          },
          "execution_count": 71
        },
        {
          "output_type": "display_data",
          "data": {
            "image/png": "[encoded data removed]",
            "text/plain": [
              "<Figure size 432x288 with 1 Axes>"
            ]
          },
          "metadata": {
            "tags": [],
            "needs_background": "light"
          }
        }
      ]
    },
    {
      "cell_type": "markdown",
      "metadata": {
        "id": "P61iqduiGhu6",
        "colab_type": "text"
      },
      "source": [
        "**Compare Bronx Science to Other Schools in City**\n",
        "\n",
        "*   Barplot shows BxSci scored higher than the average of all other schools for 3 years on the Living Environment exam."
      ]
    },
    {
      "cell_type": "code",
      "metadata": {
        "id": "ptsc-V8-X5JX",
        "colab_type": "code",
        "colab": {
          "base_uri": "https://localhost:8080/",
          "height": 408
        },
        "outputId": "f275e772-ae82-4753-d959-1f044ebccfc6"
      },
      "source": [
        "## All schools expect for BxSci that took Liv Envir exam\n",
        "AllSchoolsExcept=df[(df['School DBN'] != '10X445') & (df['Regents Exam']=='Living Environment')]\n",
        "AllSchoolsExcept.iloc[:,1] = 'All Other Schools'\n",
        "#AllSchoolsExcept\n",
        "#AllSchoolsExceptMean=AllSchoolsExcept.groupby(['Year','School Name'])['Mean Score'].mean()\n",
        "#print(AllSchoolsExceptMean)\n",
        "\n",
        "## Append Other Schools to BxSci\n",
        "result = df2.append(AllSchoolsExcept)\n",
        "#result\n",
        "# Visual - Barplot shows Bronx High School of Science scored higher than the average of all other schools for 3 years on the Living Environment exam\n",
        "sns.barplot(x='Year',y='Mean Score',data=result, hue='School Name').set_title('LIVING ENVIRONMENT EXAM')"
      ],
      "execution_count": 89,
      "outputs": [
        {
          "output_type": "stream",
          "text": [
            "/usr/local/lib/python3.6/dist-packages/pandas/core/indexing.py:966: SettingWithCopyWarning: \n",
            "A value is trying to be set on a copy of a slice from a DataFrame.\n",
            "Try using .loc[row_indexer,col_indexer] = value instead\n",
            "\n",
            "See the caveats in the documentation: https://pandas.pydata.org/pandas-docs/stable/user_guide/indexing.html#returning-a-view-versus-a-copy\n",
            "  self.obj[item] = s\n"
          ],
          "name": "stderr"
        },
        {
          "output_type": "execute_result",
          "data": {
            "text/plain": [
              "Text(0.5, 1.0, 'LIVING ENVIRONMENT EXAM')"
            ]
          },
          "metadata": {
            "tags": []
          },
          "execution_count": 89
        },
        {
          "output_type": "display_data",
          "data": {
            "image/png": "[encoded data removed]",
            "text/plain": [
              "<Figure size 432x288 with 1 Axes>"
            ]
          },
          "metadata": {
            "tags": [],
            "needs_background": "light"
          }
        }
      ]
    },
    {
      "cell_type": "markdown",
      "metadata": {
        "id": "icsvRJkrD9bm",
        "colab_type": "text"
      },
      "source": [
        ""
      ]
    }
  ]
}